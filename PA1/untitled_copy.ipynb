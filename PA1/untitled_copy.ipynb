{
 "cells": [
  {
   "cell_type": "code",
   "execution_count": 1,
   "id": "c4ab6783",
   "metadata": {},
   "outputs": [],
   "source": [
    "import dask.dataframe as dd\n",
    "from dask.distributed import Client\n",
    "import json\n",
    "import dask"
   ]
  },
  {
   "cell_type": "code",
   "execution_count": 2,
   "id": "7b5e2714",
   "metadata": {},
   "outputs": [],
   "source": [
    "# client=Client('127.0.0.1:8786')\n",
    "# client.scheduler_info()\n",
    "# #dask.config.config"
   ]
  },
  {
   "cell_type": "code",
   "execution_count": 21,
   "id": "4b9b80c8",
   "metadata": {},
   "outputs": [],
   "source": [
    "products = dd.read_csv(\"small_products_Release.csv\")\n",
    "reviews = dd.read_csv(\"small_user_reviews_Release.csv\")"
   ]
  },
  {
   "cell_type": "code",
   "execution_count": 33,
   "id": "4d2c95e1",
   "metadata": {},
   "outputs": [
    {
     "data": {
      "text/html": [
       "<div>\n",
       "<style scoped>\n",
       "    .dataframe tbody tr th:only-of-type {\n",
       "        vertical-align: middle;\n",
       "    }\n",
       "\n",
       "    .dataframe tbody tr th {\n",
       "        vertical-align: top;\n",
       "    }\n",
       "\n",
       "    .dataframe thead th {\n",
       "        text-align: right;\n",
       "    }\n",
       "</style>\n",
       "<table border=\"1\" class=\"dataframe\">\n",
       "  <thead>\n",
       "    <tr style=\"text-align: right;\">\n",
       "      <th></th>\n",
       "      <th>asin</th>\n",
       "      <th>salesRank</th>\n",
       "      <th>imUrl</th>\n",
       "      <th>categories</th>\n",
       "      <th>title</th>\n",
       "      <th>description</th>\n",
       "      <th>price</th>\n",
       "      <th>related</th>\n",
       "      <th>brand</th>\n",
       "    </tr>\n",
       "  </thead>\n",
       "  <tbody>\n",
       "    <tr>\n",
       "      <th>6217</th>\n",
       "      <td>0198515294</td>\n",
       "      <td>{'Books': 1938228}</td>\n",
       "      <td>http://ecx.images-amazon.com/images/I/510Vg1i6...</td>\n",
       "      <td>[['Books']]</td>\n",
       "      <td>Global Public Health: A New Era (Medicine)</td>\n",
       "      <td>\"I would recommend this eminently readable and...</td>\n",
       "      <td>52.22</td>\n",
       "      <td>NaN</td>\n",
       "      <td>NaN</td>\n",
       "    </tr>\n",
       "  </tbody>\n",
       "</table>\n",
       "</div>"
      ],
      "text/plain": [
       "            asin           salesRank  \\\n",
       "6217  0198515294  {'Books': 1938228}   \n",
       "\n",
       "                                                  imUrl   categories  \\\n",
       "6217  http://ecx.images-amazon.com/images/I/510Vg1i6...  [['Books']]   \n",
       "\n",
       "                                           title  \\\n",
       "6217  Global Public Health: A New Era (Medicine)   \n",
       "\n",
       "                                            description  price related brand  \n",
       "6217  \"I would recommend this eminently readable and...  52.22     NaN   NaN  "
      ]
     },
     "execution_count": 33,
     "metadata": {},
     "output_type": "execute_result"
    }
   ],
   "source": [
    "products.tail(1)"
   ]
  },
  {
   "cell_type": "code",
   "execution_count": 32,
   "id": "b529fbcc",
   "metadata": {},
   "outputs": [
    {
     "data": {
      "text/html": [
       "<div>\n",
       "<style scoped>\n",
       "    .dataframe tbody tr th:only-of-type {\n",
       "        vertical-align: middle;\n",
       "    }\n",
       "\n",
       "    .dataframe tbody tr th {\n",
       "        vertical-align: top;\n",
       "    }\n",
       "\n",
       "    .dataframe thead th {\n",
       "        text-align: right;\n",
       "    }\n",
       "</style>\n",
       "<table border=\"1\" class=\"dataframe\">\n",
       "  <thead>\n",
       "    <tr style=\"text-align: right;\">\n",
       "      <th></th>\n",
       "      <th>reviewerID</th>\n",
       "      <th>asin</th>\n",
       "      <th>reviewerName</th>\n",
       "      <th>helpful</th>\n",
       "      <th>reviewText</th>\n",
       "      <th>overall</th>\n",
       "      <th>summary</th>\n",
       "      <th>unixReviewTime</th>\n",
       "      <th>reviewTime</th>\n",
       "    </tr>\n",
       "  </thead>\n",
       "  <tbody>\n",
       "    <tr>\n",
       "      <th>0</th>\n",
       "      <td>A2T0RJ91B0PQ03</td>\n",
       "      <td>B0016CRVLW</td>\n",
       "      <td>Gerald DeWitt</td>\n",
       "      <td>[0, 0]</td>\n",
       "      <td>Beware!  This is NOT the original single versi...</td>\n",
       "      <td>1.0</td>\n",
       "      <td>Poor Quality Alternate Take</td>\n",
       "      <td>1.400630e+09</td>\n",
       "      <td>05 21, 2014</td>\n",
       "    </tr>\n",
       "  </tbody>\n",
       "</table>\n",
       "</div>"
      ],
      "text/plain": [
       "       reviewerID        asin   reviewerName helpful  \\\n",
       "0  A2T0RJ91B0PQ03  B0016CRVLW  Gerald DeWitt  [0, 0]   \n",
       "\n",
       "                                          reviewText  overall  \\\n",
       "0  Beware!  This is NOT the original single versi...      1.0   \n",
       "\n",
       "                       summary  unixReviewTime   reviewTime  \n",
       "0  Poor Quality Alternate Take    1.400630e+09  05 21, 2014  "
      ]
     },
     "execution_count": 32,
     "metadata": {},
     "output_type": "execute_result"
    }
   ],
   "source": [
    "reviews.head(1)"
   ]
  },
  {
   "cell_type": "code",
   "execution_count": 22,
   "id": "ed2c9d6d",
   "metadata": {},
   "outputs": [
    {
     "data": {
      "text/plain": [
       "99999"
      ]
     },
     "execution_count": 22,
     "metadata": {},
     "output_type": "execute_result"
    }
   ],
   "source": [
    "products.shape[0].compute()"
   ]
  },
  {
   "cell_type": "code",
   "execution_count": 23,
   "id": "8ba58a78",
   "metadata": {},
   "outputs": [
    {
     "data": {
      "text/html": [
       "<div>\n",
       "<style scoped>\n",
       "    .dataframe tbody tr th:only-of-type {\n",
       "        vertical-align: middle;\n",
       "    }\n",
       "\n",
       "    .dataframe tbody tr th {\n",
       "        vertical-align: top;\n",
       "    }\n",
       "\n",
       "    .dataframe thead th {\n",
       "        text-align: right;\n",
       "    }\n",
       "</style>\n",
       "<table border=\"1\" class=\"dataframe\">\n",
       "  <thead>\n",
       "    <tr style=\"text-align: right;\">\n",
       "      <th></th>\n",
       "      <th>asin</th>\n",
       "      <th>salesRank</th>\n",
       "      <th>imUrl</th>\n",
       "      <th>categories</th>\n",
       "      <th>title</th>\n",
       "      <th>description</th>\n",
       "      <th>price</th>\n",
       "      <th>related</th>\n",
       "      <th>brand</th>\n",
       "    </tr>\n",
       "  </thead>\n",
       "  <tbody>\n",
       "    <tr>\n",
       "      <th>0</th>\n",
       "      <td>0001048791</td>\n",
       "      <td>{'Books': 6334800}</td>\n",
       "      <td>http://ecx.images-amazon.com/images/I/51MKP0T4...</td>\n",
       "      <td>[['Books']]</td>\n",
       "      <td>The Crucible: Performed by Stuart Pankin, Jero...</td>\n",
       "      <td>NaN</td>\n",
       "      <td>NaN</td>\n",
       "      <td>NaN</td>\n",
       "      <td>NaN</td>\n",
       "    </tr>\n",
       "    <tr>\n",
       "      <th>0</th>\n",
       "      <td>0073049212</td>\n",
       "      <td>{'Books': 1686967}</td>\n",
       "      <td>http://ecx.images-amazon.com/images/I/21NXKs35...</td>\n",
       "      <td>[['Books']]</td>\n",
       "      <td>Contemporary Management 4th Edition with Stude...</td>\n",
       "      <td>Gareth Jones, Texas A &amp;amp; M University Garet...</td>\n",
       "      <td>3.98</td>\n",
       "      <td>{'buy_after_viewing': ['0078137225', '00780293...</td>\n",
       "      <td>NaN</td>\n",
       "    </tr>\n",
       "    <tr>\n",
       "      <th>0</th>\n",
       "      <td>0195112954</td>\n",
       "      <td>{'Books': 2185740}</td>\n",
       "      <td>http://ecx.images-amazon.com/images/I/51PGi8pa...</td>\n",
       "      <td>[['Books']]</td>\n",
       "      <td>Religion in Twentieth Century America (Religio...</td>\n",
       "      <td>Gr 9 Up-From the Pentecostal revival sparked b...</td>\n",
       "      <td>NaN</td>\n",
       "      <td>{'also_bought': ['0195119983', '0195110218']}</td>\n",
       "      <td>NaN</td>\n",
       "    </tr>\n",
       "  </tbody>\n",
       "</table>\n",
       "</div>"
      ],
      "text/plain": [
       "         asin           salesRank  \\\n",
       "0  0001048791  {'Books': 6334800}   \n",
       "0  0073049212  {'Books': 1686967}   \n",
       "0  0195112954  {'Books': 2185740}   \n",
       "\n",
       "                                               imUrl   categories  \\\n",
       "0  http://ecx.images-amazon.com/images/I/51MKP0T4...  [['Books']]   \n",
       "0  http://ecx.images-amazon.com/images/I/21NXKs35...  [['Books']]   \n",
       "0  http://ecx.images-amazon.com/images/I/51PGi8pa...  [['Books']]   \n",
       "\n",
       "                                               title  \\\n",
       "0  The Crucible: Performed by Stuart Pankin, Jero...   \n",
       "0  Contemporary Management 4th Edition with Stude...   \n",
       "0  Religion in Twentieth Century America (Religio...   \n",
       "\n",
       "                                         description  price  \\\n",
       "0                                                NaN    NaN   \n",
       "0  Gareth Jones, Texas A &amp; M University Garet...   3.98   \n",
       "0  Gr 9 Up-From the Pentecostal revival sparked b...    NaN   \n",
       "\n",
       "                                             related brand  \n",
       "0                                                NaN   NaN  \n",
       "0  {'buy_after_viewing': ['0078137225', '00780293...   NaN  \n",
       "0      {'also_bought': ['0195119983', '0195110218']}   NaN  "
      ]
     },
     "execution_count": 23,
     "metadata": {},
     "output_type": "execute_result"
    }
   ],
   "source": [
    "products.loc[0].compute()\n"
   ]
  },
  {
   "cell_type": "code",
   "execution_count": 92,
   "id": "086efb78",
   "metadata": {},
   "outputs": [
    {
     "data": {
      "text/plain": [
       "26.140162679920977"
      ]
     },
     "execution_count": 92,
     "metadata": {},
     "output_type": "execute_result"
    }
   ],
   "source": [
    "percentNa = reviews.isna().mean().mean()*100 + products.isna().mean().mean()*100\n",
    "percentNa.compute()\n",
    "\n",
    "#check mask\"\"???"
   ]
  },
  {
   "cell_type": "code",
   "execution_count": 66,
   "id": "ea89dc76",
   "metadata": {},
   "outputs": [
    {
     "name": "stderr",
     "output_type": "stream",
     "text": [
      "/home/ubuntu/dask_env/lib/python3.6/site-packages/numpy/lib/function_base.py:380: RuntimeWarning: Mean of empty slice.\n",
      "  avg = a.mean(axis)\n",
      "/home/ubuntu/dask_env/lib/python3.6/site-packages/numpy/core/_methods.py:163: RuntimeWarning: invalid value encountered in true_divide\n",
      "  ret, rcount, out=ret, casting='unsafe', subok=False)\n",
      "/home/ubuntu/dask_env/lib/python3.6/site-packages/pandas/core/frame.py:8280: RuntimeWarning: Degrees of freedom <= 0 for slice\n",
      "  base_cov = np.cov(mat.T, ddof=ddof)\n",
      "/home/ubuntu/dask_env/lib/python3.6/site-packages/numpy/lib/function_base.py:2480: RuntimeWarning: divide by zero encountered in true_divide\n",
      "  c *= np.true_divide(1, fact)\n",
      "/home/ubuntu/dask_env/lib/python3.6/site-packages/numpy/lib/function_base.py:2480: RuntimeWarning: invalid value encountered in multiply\n",
      "  c *= np.true_divide(1, fact)\n",
      "/home/ubuntu/dask_env/lib/python3.6/site-packages/numpy/core/_methods.py:163: RuntimeWarning: invalid value encountered in true_divide\n",
      "  ret, rcount, out=ret, casting='unsafe', subok=False)\n",
      "/home/ubuntu/dask_env/lib/python3.6/site-packages/pandas/core/frame.py:8280: RuntimeWarning: Degrees of freedom <= 0 for slice\n",
      "  base_cov = np.cov(mat.T, ddof=ddof)\n",
      "/home/ubuntu/dask_env/lib/python3.6/site-packages/numpy/lib/function_base.py:2480: RuntimeWarning: divide by zero encountered in true_divide\n",
      "  c *= np.true_divide(1, fact)\n",
      "/home/ubuntu/dask_env/lib/python3.6/site-packages/numpy/lib/function_base.py:2480: RuntimeWarning: invalid value encountered in multiply\n",
      "  c *= np.true_divide(1, fact)\n"
     ]
    }
   ],
   "source": [
    "subproducts = products[['asin', 'price']]\n",
    "subreviews = reviews[['asin', 'overall']]\n",
    "\n",
    "joined = subproducts.set_index(\"asin\").join(subreviews.set_index(\"asin\"), on=\"asin\", how='inner')\n",
    "#joined.head()\n",
    "pcor = joined.corr()['overall']\n",
    "val = pcor.compute()['price']"
   ]
  },
  {
   "cell_type": "code",
   "execution_count": 76,
   "id": "a45f3e18",
   "metadata": {},
   "outputs": [
    {
     "data": {
      "text/plain": [
       "[27.726746045964067, 40.33121621403623, 16.14, 0.0, 992.75]"
      ]
     },
     "execution_count": 76,
     "metadata": {},
     "output_type": "execute_result"
    }
   ],
   "source": [
    "price_prod = products['price'].describe().compute()\n",
    "[price_prod['mean'], price_prod['std'], price_prod['50%'], price_prod['min'], price_prod['max']]"
   ]
  },
  {
   "cell_type": "code",
   "execution_count": 8,
   "id": "bb6183a3",
   "metadata": {},
   "outputs": [
    {
     "ename": "NameError",
     "evalue": "name 'ddf' is not defined",
     "output_type": "error",
     "traceback": [
      "\u001b[0;31m---------------------------------------------------------------------------\u001b[0m",
      "\u001b[0;31mNameError\u001b[0m                                 Traceback (most recent call last)",
      "\u001b[0;32m<ipython-input-8-10a252899e31>\u001b[0m in \u001b[0;36m<module>\u001b[0;34m\u001b[0m\n\u001b[0;32m----> 1\u001b[0;31m \u001b[0mddf\u001b[0m\u001b[0;34m.\u001b[0m\u001b[0mprice\u001b[0m\u001b[0;34m.\u001b[0m\u001b[0mdescribe\u001b[0m\u001b[0;34m(\u001b[0m\u001b[0;34m)\u001b[0m\u001b[0;34m\u001b[0m\u001b[0;34m\u001b[0m\u001b[0m\n\u001b[0m",
      "\u001b[0;31mNameError\u001b[0m: name 'ddf' is not defined"
     ]
    }
   ],
   "source": [
    "priceNumbers = products.price.describe()"
   ]
  },
  {
   "cell_type": "code",
   "execution_count": 9,
   "id": "061632ab",
   "metadata": {},
   "outputs": [
    {
     "ename": "NameError",
     "evalue": "name 'ddf' is not defined",
     "output_type": "error",
     "traceback": [
      "\u001b[0;31m---------------------------------------------------------------------------\u001b[0m",
      "\u001b[0;31mNameError\u001b[0m                                 Traceback (most recent call last)",
      "\u001b[0;32m<ipython-input-9-48dfd385de66>\u001b[0m in \u001b[0;36m<module>\u001b[0;34m\u001b[0m\n\u001b[0;32m----> 1\u001b[0;31m \u001b[0mnumCat\u001b[0m \u001b[0;34m=\u001b[0m \u001b[0mddf\u001b[0m\u001b[0;34m.\u001b[0m\u001b[0mgroupby\u001b[0m\u001b[0;34m(\u001b[0m\u001b[0;34m\"categories\"\u001b[0m\u001b[0;34m)\u001b[0m\u001b[0;34m.\u001b[0m\u001b[0mcount\u001b[0m\u001b[0;34m(\u001b[0m\u001b[0;34m)\u001b[0m\u001b[0;34m\u001b[0m\u001b[0;34m\u001b[0m\u001b[0m\n\u001b[0m",
      "\u001b[0;31mNameError\u001b[0m: name 'ddf' is not defined"
     ]
    }
   ],
   "source": [
    "numCat = products.groupby(\"categories\").count()"
   ]
  },
  {
   "cell_type": "code",
   "execution_count": null,
   "id": "32d09abb",
   "metadata": {},
   "outputs": [],
   "source": []
  }
 ],
 "metadata": {
  "kernelspec": {
   "display_name": "Python 3",
   "language": "python",
   "name": "python3"
  },
  "language_info": {
   "codemirror_mode": {
    "name": "ipython",
    "version": 3
   },
   "file_extension": ".py",
   "mimetype": "text/x-python",
   "name": "python",
   "nbconvert_exporter": "python",
   "pygments_lexer": "ipython3",
   "version": "3.6.9"
  }
 },
 "nbformat": 4,
 "nbformat_minor": 5
}
