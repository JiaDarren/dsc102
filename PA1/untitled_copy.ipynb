{
 "cells": [
  {
   "cell_type": "code",
   "execution_count": null,
   "id": "c4ab6783",
   "metadata": {},
   "outputs": [],
   "source": [
    "import dask.dataframe as dd\n",
    "from dask.distributed import Client\n",
    "import json\n",
    "import dask\n",
    "import numpy as np\n",
    "import re\n",
    "# import graphviz\n",
    "import pandas as pd\n",
    "import random"
   ]
  },
  {
   "cell_type": "code",
   "execution_count": null,
   "id": "75929580",
   "metadata": {},
   "outputs": [],
   "source": []
  },
  {
   "cell_type": "code",
   "execution_count": null,
   "id": "7b5e2714",
   "metadata": {},
   "outputs": [],
   "source": [
    "client=Client('172.31.42.114:8786')\n",
    "client\n",
    "# client.scheduler_info()\n",
    "# #dask.config.config"
   ]
  },
  {
   "cell_type": "code",
   "execution_count": null,
   "id": "4b9b80c8",
   "metadata": {},
   "outputs": [],
   "source": [
    "products = dd.read_csv(\"small_products_Release.csv\")\n",
    "reviews = dd.read_csv(\"small_user_reviews_Release.csv\")"
   ]
  },
  {
   "cell_type": "code",
   "execution_count": null,
   "id": "4d2c95e1",
   "metadata": {},
   "outputs": [],
   "source": [
    "products.head(4)"
   ]
  },
  {
   "cell_type": "code",
   "execution_count": null,
   "id": "b529fbcc",
   "metadata": {},
   "outputs": [],
   "source": [
    "reviews.head(1)"
   ]
  },
  {
   "cell_type": "code",
   "execution_count": null,
   "id": "ed2c9d6d",
   "metadata": {},
   "outputs": [],
   "source": [
    "products.shape[0].compute()"
   ]
  },
  {
   "cell_type": "code",
   "execution_count": null,
   "id": "8ba58a78",
   "metadata": {},
   "outputs": [],
   "source": [
    "products.head()\n"
   ]
  },
  {
   "cell_type": "code",
   "execution_count": null,
   "id": "086efb78",
   "metadata": {},
   "outputs": [],
   "source": [
    "reviews.isna().mean().compute()"
   ]
  },
  {
   "cell_type": "code",
   "execution_count": null,
   "id": "66159d21",
   "metadata": {},
   "outputs": [],
   "source": [
    "products.isna().mean().compute()"
   ]
  },
  {
   "cell_type": "code",
   "execution_count": null,
   "id": "ea89dc76",
   "metadata": {},
   "outputs": [],
   "source": [
    "subproducts = products[['asin', 'price']]\n",
    "subreviews = reviews[['asin', 'overall']]\n",
    "\n",
    "#optimise with left and not index on products\n",
    "joined = subproducts.join(subreviews.set_index(\"asin\"), on=\"asin\", how='inner')\n",
    "#joined.head()\n",
    "pcor = joined.corr()['overall']\n",
    "val = pcor.compute()['price']\n",
    "val"
   ]
  },
  {
   "cell_type": "code",
   "execution_count": null,
   "id": "a45f3e18",
   "metadata": {},
   "outputs": [],
   "source": [
    "price_prod = products['price'].describe().compute()\n",
    "#check if min is actuatly returning empty\n",
    "# [price_prod['mean'], price_prod['std'], price_prod['50%'], price_prod['min'], price_prod['max']]\n",
    "price_prod[['mean', 'std', '50%', 'min', 'max']]"
   ]
  },
  {
   "cell_type": "code",
   "execution_count": null,
   "id": "bb6183a3",
   "metadata": {},
   "outputs": [],
   "source": []
  },
  {
   "cell_type": "code",
   "execution_count": null,
   "id": "061632ab",
   "metadata": {},
   "outputs": [],
   "source": [
    "def f(x):\n",
    "    if isinstance(x, float):\n",
    "        return x\n",
    "    else:\n",
    "        return x.strip(\"[]\").split(',')[0]\n",
    "\n",
    "numCat = products.assign(categories = lambda x: x.categories.apply(\n",
    "    f,\n",
    "    meta=('categories', 'str'))\n",
    "                        )\n",
    "\n",
    "numCat = numCat.groupby(\"categories\").count()['asin']\n",
    "numCat.compute()[1:]\n",
    "\n",
    "#[1:]this removes the nan catagory"
   ]
  },
  {
   "cell_type": "code",
   "execution_count": null,
   "id": "32d09abb",
   "metadata": {},
   "outputs": [],
   "source": [
    "# #Q5\n",
    "\n",
    "# subR = reviews[['asin']].drop_duplicates().set_index('asin')\n",
    "\n",
    "# subP = products.set_index('asin')\n",
    "\n",
    "# iner = subR.join(subP, on=\"asin\", how='inner').shape[0]\n",
    "\n",
    "# left = subR.join(subP, on=\"asin\", how='left').shape[0]\n",
    "\n",
    "# # print(iner)\n",
    "# # print(left)\n",
    "\n",
    "# # out = (iner == left).compute()\n",
    "\n",
    "# # out\n",
    "# iner.head()\n",
    "# #products.set_index('asin').index\n",
    "# #index.difference(products.set_index('asin').index)"
   ]
  },
  {
   "cell_type": "code",
   "execution_count": null,
   "id": "c85f4697",
   "metadata": {},
   "outputs": [],
   "source": [
    "rev_data = ['A' + str(i) for i in range(170)]\n",
    "prod_data = ['A' + str(i) for i in range(160)]\n",
    "rev_data.extend(['A' + str(i) for i in range(20)])\n",
    "\n",
    "\n",
    "test_reviews = dd.from_pandas(\n",
    "    pd.DataFrame(\n",
    "        {'asin':rev_data}\n",
    "    ),\n",
    "    npartitions = 16\n",
    ")\n",
    "test_products = dd.from_pandas(\n",
    "    pd.DataFrame(\n",
    "        {'asin':prod_data}\n",
    "    ),\n",
    "    npartitions = 16\n",
    ")\n",
    "test_reviews.tail(10)\n",
    "# test_products.head(10)\n"
   ]
  },
  {
   "cell_type": "code",
   "execution_count": null,
   "id": "3d42a591",
   "metadata": {},
   "outputs": [],
   "source": [
    "# # Q5 (without index)\n",
    "subR = reviews[['asin']]\n",
    "\n",
    "subP = products[[\"asin\"]]\n",
    "subP[\"temp\"] = 1\n",
    "\n",
    "left = dd.merge(subR, subP, how = \"left\")\n",
    "\n",
    "left.temp.isna().any().compute() + 0"
   ]
  },
  {
   "cell_type": "code",
   "execution_count": null,
   "id": "d3028b47",
   "metadata": {},
   "outputs": [],
   "source": [
    "from string import ascii_uppercase\n",
    "from string import digits\n",
    "random.seed(100)"
   ]
  },
  {
   "cell_type": "code",
   "execution_count": null,
   "id": "f3af87c3",
   "metadata": {},
   "outputs": [],
   "source": [
    "def rand_asin():\n",
    "    return ''.join(random.choice(ascii_uppercase + digits) for i in range(10))\n",
    "def rand_related(X, n):\n",
    "    return str(random.sample(X, k = random.randint(1,n)))\n",
    "\n",
    "prod_data = [rand_asin() for i in range(160)]\n",
    "rev_data = [rand_related(prod_data, 10) for i in range(160)]\n",
    "\n",
    "test_reviews = dd.from_pandas(\n",
    "    pd.DataFrame(\n",
    "        {'related':rev_data}\n",
    "    ),\n",
    "    npartitions = 16\n",
    ")\n",
    "test_products = dd.from_pandas(\n",
    "    pd.DataFrame(\n",
    "        {'asin':prod_data}\n",
    "    ),\n",
    "    npartitions = 16\n",
    ")\n",
    "\n",
    "test_reviews.head(10)"
   ]
  },
  {
   "cell_type": "code",
   "execution_count": null,
   "id": "8afb9deb",
   "metadata": {},
   "outputs": [],
   "source": [
    "X_test = dd.from_pandas(\n",
    "    pd.DataFrame(\n",
    "        {'x':[rand_related(prod_data, 10) for i in range(5)]}\n",
    "    ),\n",
    "    npartitions = 2\n",
    ")\n",
    "X_test.apply(lambda x: x + \"testingstr\", axis=1, meta=('x', 'str')).compute()\n"
   ]
  },
  {
   "cell_type": "code",
   "execution_count": null,
   "id": "c351bf93",
   "metadata": {},
   "outputs": [],
   "source": [
    "df = pd.DataFrame({'x': [1, 2, 3, 4, 5],\n",
    "                   'y': [1., 2., 3., 4., 5.]})\n",
    "\n",
    "def parse(related):\n",
    "    return \"|\".join(re.findall(\"[A-Z0-9]{10}\", related))\n",
    "\n",
    "ddf = dd.from_pandas(df, npartitions=2)\n",
    "test_reviews[[\"related\"]].apply(\n",
    "    parse, axis=1, meta=('related', 'str')\n",
    ").compute()"
   ]
  },
  {
   "cell_type": "code",
   "execution_count": null,
   "id": "6397b53d",
   "metadata": {},
   "outputs": [],
   "source": [
    "#Q6\n",
    "\n",
    "subP = products\n",
    "\n",
    "ser = subP[\"asin\"]\n",
    "\n",
    "def parse(related):\n",
    "    return \"|\".join(re.findall(\"[A-Z0-9]{10}\", related))\n",
    "\n",
    "def f(val):\n",
    "    asins = parse(val)\n",
    "    return ser.str.contains(\"|\".join(asins)).any()\n",
    "    \n",
    "def g(df):\n",
    "    df['related'].apply(f,meta=\"str\")\n",
    "\n",
    "#f({\"related\":\"0000143561\"}).compute()\n",
    "#f({\"related\":\"B0036FO6SI\"}).compute()\n",
    "\n",
    "subP.assign(related = g,meta=\"str\").compute()\n",
    "\n"
   ]
  },
  {
   "cell_type": "code",
   "execution_count": null,
   "id": "54c41327",
   "metadata": {},
   "outputs": [],
   "source": [
    "subP = products.set_index(\"asin\")\n",
    "\n",
    "\n",
    "def parse(related):\n",
    "    return re.findall(\"[A-Z0-9]{10}\", related)\n",
    "\n",
    "def f(df):\n",
    "    asins = []\n",
    "    for row in df.iterrows():\n",
    "        \n",
    "        asins.append([1])\n",
    "    \n",
    "    ret = pd.DataFrame({\"asins\" : asins})\n",
    "    return ret\n",
    "    \n",
    "\n",
    "subP.map_partitions(f,  meta=\"str\").compute()\n"
   ]
  },
  {
   "cell_type": "code",
   "execution_count": null,
   "id": "6d979639",
   "metadata": {},
   "outputs": [],
   "source": [
    "# Q6 new\n",
    "\n",
    "\n",
    "\n",
    "def g(ser):\n",
    "    lst = []\n",
    "    def parse(related):\n",
    "        if (not pd.isnull(related)):\n",
    "            lst.extend(re.findall(\"[A-Z0-9]{10}\", related))\n",
    "    \n",
    "    ser.apply(parse)\n",
    "    \n",
    "    return pd.Series(lst)\n",
    "\n",
    "def f(df):\n",
    "    return df.apply(g)"
   ]
  },
  {
   "cell_type": "code",
   "execution_count": null,
   "id": "55324e4b",
   "metadata": {},
   "outputs": [],
   "source": [
    "subR = products[[\"related\"]]\n",
    "\n",
    "metadata = {\"related\":\"str\"}\n",
    "\n",
    "res = subR.map_partitions(f, meta = metadata)\n",
    "\n",
    "res = res.rename(columns={\"related\": \"asin\"})\n",
    "\n",
    "res = res.drop_duplicates(split_out=4)#10461397\n",
    "\n",
    "#res.npartitions\n",
    "\n",
    "#res.shape[0].compute()"
   ]
  },
  {
   "cell_type": "code",
   "execution_count": null,
   "id": "3502ec61",
   "metadata": {},
   "outputs": [],
   "source": [
    "subA = products[[\"asin\"]]\n",
    "\n",
    "#subA = subA.set_index(\"asin\")\n",
    "\n",
    "subA[\"tempA\"] = 1\n",
    "\n",
    "res2 = res\n",
    "\n",
    "#res2 = res2.set_index(\"asin\")\n",
    "\n",
    "res2[\"tempR\"] = 1\n",
    "\n",
    "jn = subA.merge(res2, how='outer', \n",
    "                left_index = True, \n",
    "                right_index = True)#on=\"asin\")"
   ]
  },
  {
   "cell_type": "code",
   "execution_count": null,
   "id": "48267600",
   "metadata": {},
   "outputs": [],
   "source": [
    "# jn.dask"
   ]
  },
  {
   "cell_type": "code",
   "execution_count": null,
   "id": "870e828c",
   "metadata": {},
   "outputs": [],
   "source": [
    "(jn.tempA.isna().any() + jn.tempR.isna().any()).compute() >0"
   ]
  },
  {
   "cell_type": "code",
   "execution_count": null,
   "id": "31df6b53",
   "metadata": {
    "scrolled": true
   },
   "outputs": [],
   "source": [
    "jn.tempA.isna().any().compute()"
   ]
  },
  {
   "cell_type": "markdown",
   "id": "915863ee",
   "metadata": {},
   "source": [
    "## FINAL CODE"
   ]
  },
  {
   "cell_type": "code",
   "execution_count": 1,
   "id": "5fa9f91c",
   "metadata": {},
   "outputs": [
    {
     "ename": "NameError",
     "evalue": "name 'temp' is not defined",
     "output_type": "error",
     "traceback": [
      "\u001b[0;31m---------------------------------------------------------------------------\u001b[0m",
      "\u001b[0;31mNameError\u001b[0m                                 Traceback (most recent call last)",
      "\u001b[0;32m<ipython-input-1-25922deef915>\u001b[0m in \u001b[0;36m<module>\u001b[0;34m\u001b[0m\n\u001b[1;32m    111\u001b[0m \u001b[0mtemp1\u001b[0m \u001b[0;34m=\u001b[0m \u001b[0mdask\u001b[0m\u001b[0;34m.\u001b[0m\u001b[0mcompute\u001b[0m\u001b[0;34m(\u001b[0m\u001b[0mbag1\u001b[0m\u001b[0;34m)\u001b[0m\u001b[0;34m\u001b[0m\u001b[0;34m\u001b[0m\u001b[0m\n\u001b[1;32m    112\u001b[0m \u001b[0;34m\u001b[0m\u001b[0m\n\u001b[0;32m--> 113\u001b[0;31m \u001b[0mtemp\u001b[0m\u001b[0;34m\u001b[0m\u001b[0;34m\u001b[0m\u001b[0m\n\u001b[0m\u001b[1;32m    114\u001b[0m \u001b[0;31m#q1_reviews, q1_products, pre_q2, pre_q3, pre_q4, pre_q5, pre_q6\u001b[0m\u001b[0;34m\u001b[0m\u001b[0;34m\u001b[0m\u001b[0;34m\u001b[0m\u001b[0m\n\u001b[1;32m    115\u001b[0m \u001b[0;31m#q2 = pre_q2['price']\u001b[0m\u001b[0;34m\u001b[0m\u001b[0;34m\u001b[0m\u001b[0;34m\u001b[0m\u001b[0m\n",
      "\u001b[0;31mNameError\u001b[0m: name 'temp' is not defined"
     ]
    }
   ],
   "source": [
    "import dask.dataframe as dd\n",
    "from dask.distributed import Client\n",
    "import json\n",
    "import dask\n",
    "import numpy as np\n",
    "import re\n",
    "import pandas as pd\n",
    "\n",
    "products = dd.read_csv(\"products_Release.csv\")\n",
    "reviews = dd.read_csv(\"user_reviews_Release.csv\")\n",
    "\n",
    "client=Client('172.31.42.114:8786')\n",
    "client\n",
    "\n",
    "\n",
    "# Q1\n",
    "# q1_reviews = reviews.isna().mean().compute()\n",
    "# q1_products = products.isna().mean().compute()\n",
    "\n",
    "# Set up for Q1-Q6\n",
    "product_metadata = {'price':float,  \n",
    "                    'categories':str, \n",
    "                    'asin':str,\n",
    "                    'related':str}\n",
    "products = dd.read_csv(\"products_Release.csv\", \n",
    "                        usecols=['price',  \n",
    "                                'categories', \n",
    "                                'asin',\n",
    "                                'related'\n",
    "                                ],\n",
    "                       dtype=product_metadata)\n",
    "reviews_metadata = {'asin':str, \n",
    "                    'overall':float}\n",
    "reviews = dd.read_csv(\"user_reviews_Release.csv\", \n",
    "                      usecols=['asin', 'overall'],\n",
    "                      dtype=reviews_metadata)\n",
    "\n",
    "bag1 = {}\n",
    "\n",
    "# Q2\n",
    "subproducts = products[['asin', 'price']]\n",
    "subreviews = reviews[['asin', 'overall']]\n",
    "\n",
    "#optimise with left and not index on products\n",
    "# joined = subproducts.join(subreviews, \n",
    "#                           on=\"asin\", \n",
    "#                           how='inner')\n",
    "joined = dd.merge(subproducts, subreviews, on = 'asin', how = 'inner')\n",
    "\n",
    "#joined.head()\n",
    "q2 = joined.corr()['overall'].compute()['price']\n",
    "\n",
    "# Q3\n",
    "price_prod = products['price'].describe()\n",
    "bag1['q3'] = price_prod#.compute()[['mean', 'std', '50%', 'min', 'max']]\n",
    "\n",
    "# Q4\n",
    "def get_supercat(x):\n",
    "    if isinstance(x, float):\n",
    "        return x\n",
    "    else:\n",
    "        return x.strip(\"[]\").split(',')[0]\n",
    "\n",
    "numCat = products.assign(categories = lambda x: x.categories.apply(\n",
    "    get_supercat,\n",
    "    meta=('categories', 'str'))\n",
    "                        )\n",
    "\n",
    "numCat = numCat.groupby(\"categories\").count()['asin']\n",
    "bag1['q4'] = numCat#.compute()[1:]\n",
    "\n",
    "\n",
    "# Q5\n",
    "subR = reviews[['asin']]\n",
    "subP = products[[\"asin\"]]\n",
    "subP[\"temp\"] = 1\n",
    "\n",
    "left = dd.merge(subR, subP, how = \"left\")\n",
    "bag1['q5'] = left.temp.isna().any()#.compute() + 0\n",
    "\n",
    "\n",
    "# Q6\n",
    "def g(ser):\n",
    "    lst = []\n",
    "    def parse(related):\n",
    "        if (not pd.isnull(related)):\n",
    "            lst.extend(re.findall(\"[A-Z0-9]{10}\", related))\n",
    "\n",
    "    ser.apply(parse)\n",
    "    return pd.Series(lst)\n",
    "\n",
    "def f(df):\n",
    "    return df.apply(g)\n",
    "\n",
    "subR = products[[\"related\"]]\n",
    "metadata = {\"related\":\"str\"}\n",
    "res = subR.map_partitions(f, meta = metadata)\n",
    "res = res.rename(columns={\"related\": \"asin\"})\n",
    "res = res.drop_duplicates(split_out=4)\n",
    "\n",
    "subA = products[[\"asin\"]]\n",
    "subA[\"tempA\"] = 1\n",
    "res2 = res\n",
    "res2[\"tempR\"] = 1\n",
    "jn = subA.merge(res2, how='outer', \n",
    "                left_index = True, \n",
    "                right_index = True)\n",
    "\n",
    "q6 = (jn.tempA.isna().any() + jn.tempR.isna().any()).compute() > 0\n",
    "\n",
    "temp1 = dask.compute(bag1)\n",
    "\n",
    "temp    \n",
    "#q1_reviews, q1_products, pre_q2, pre_q3, pre_q4, pre_q5, pre_q6\n",
    "#q2 = pre_q2['price']\n",
    "#q3 = pre_q3[['mean', 'std', '50%', 'min', 'max']]\n",
    "#q4 = pre_q4[1:]\n",
    "##q5 = pre_q5 + 0\n",
    "#q6 = pre_q6 > 0"
   ]
  },
  {
   "cell_type": "code",
   "execution_count": null,
   "id": "9b1a2376",
   "metadata": {},
   "outputs": [],
   "source": []
  },
  {
   "cell_type": "code",
   "execution_count": null,
   "id": "0e321f76",
   "metadata": {},
   "outputs": [],
   "source": []
  },
  {
   "cell_type": "code",
   "execution_count": null,
   "id": "47ecb7c8",
   "metadata": {},
   "outputs": [],
   "source": []
  },
  {
   "cell_type": "code",
   "execution_count": null,
   "id": "392f145a",
   "metadata": {},
   "outputs": [],
   "source": []
  },
  {
   "cell_type": "code",
   "execution_count": null,
   "id": "2580be74",
   "metadata": {},
   "outputs": [],
   "source": []
  }
 ],
 "metadata": {
  "kernelspec": {
   "display_name": "Python 3",
   "language": "python",
   "name": "python3"
  },
  "language_info": {
   "codemirror_mode": {
    "name": "ipython",
    "version": 3
   },
   "file_extension": ".py",
   "mimetype": "text/x-python",
   "name": "python",
   "nbconvert_exporter": "python",
   "pygments_lexer": "ipython3",
   "version": "3.6.9"
  }
 },
 "nbformat": 4,
 "nbformat_minor": 5
}
