{
 "cells": [
  {
   "cell_type": "code",
   "execution_count": null,
   "id": "c4ab6783",
   "metadata": {},
   "outputs": [],
   "source": [
    "import dask.dataframe as dd\n",
    "from dask.distributed import Client\n",
    "import json\n",
    "import dask\n",
    "import numpy as np\n",
    "import re\n",
    "# import graphviz\n",
    "import pandas as pd\n",
    "import random"
   ]
  },
  {
   "cell_type": "code",
   "execution_count": null,
   "id": "75929580",
   "metadata": {},
   "outputs": [],
   "source": []
  },
  {
   "cell_type": "code",
   "execution_count": null,
   "id": "7b5e2714",
   "metadata": {},
   "outputs": [],
   "source": [
    "client=Client('172.31.42.114:8786')\n",
    "client\n",
    "# client.scheduler_info()\n",
    "# #dask.config.config"
   ]
  },
  {
   "cell_type": "code",
   "execution_count": null,
   "id": "4b9b80c8",
   "metadata": {},
   "outputs": [],
   "source": [
    "products = dd.read_csv(\"small_products_Release.csv\")\n",
    "reviews = dd.read_csv(\"small_user_reviews_Release.csv\")"
   ]
  },
  {
   "cell_type": "code",
   "execution_count": null,
   "id": "4d2c95e1",
   "metadata": {},
   "outputs": [],
   "source": [
    "products.head(4)"
   ]
  },
  {
   "cell_type": "code",
   "execution_count": null,
   "id": "b529fbcc",
   "metadata": {},
   "outputs": [],
   "source": [
    "reviews.head(1)"
   ]
  },
  {
   "cell_type": "code",
   "execution_count": null,
   "id": "ed2c9d6d",
   "metadata": {},
   "outputs": [],
   "source": [
    "products.shape[0].compute()"
   ]
  },
  {
   "cell_type": "code",
   "execution_count": null,
   "id": "8ba58a78",
   "metadata": {},
   "outputs": [],
   "source": [
    "products.head()\n"
   ]
  },
  {
   "cell_type": "code",
   "execution_count": null,
   "id": "086efb78",
   "metadata": {},
   "outputs": [],
   "source": [
    "reviews.isna().mean().compute()"
   ]
  },
  {
   "cell_type": "code",
   "execution_count": null,
   "id": "66159d21",
   "metadata": {},
   "outputs": [],
   "source": [
    "products.isna().mean().compute()"
   ]
  },
  {
   "cell_type": "code",
   "execution_count": null,
   "id": "ea89dc76",
   "metadata": {},
   "outputs": [],
   "source": [
    "subproducts = products[['asin', 'price']]\n",
    "subreviews = reviews[['asin', 'overall']]\n",
    "\n",
    "#optimise with left and not index on products\n",
    "joined = subproducts.join(subreviews.set_index(\"asin\"), on=\"asin\", how='inner')\n",
    "#joined.head()\n",
    "pcor = joined.corr()['overall']\n",
    "val = pcor.compute()['price']\n",
    "val"
   ]
  },
  {
   "cell_type": "code",
   "execution_count": null,
   "id": "a45f3e18",
   "metadata": {},
   "outputs": [],
   "source": [
    "price_prod = products['price'].describe().compute()\n",
    "#check if min is actuatly returning empty\n",
    "# [price_prod['mean'], price_prod['std'], price_prod['50%'], price_prod['min'], price_prod['max']]\n",
    "price_prod[['mean', 'std', '50%', 'min', 'max']]"
   ]
  },
  {
   "cell_type": "code",
   "execution_count": null,
   "id": "bb6183a3",
   "metadata": {},
   "outputs": [],
   "source": []
  },
  {
   "cell_type": "code",
   "execution_count": null,
   "id": "061632ab",
   "metadata": {},
   "outputs": [],
   "source": [
    "def f(x):\n",
    "    if isinstance(x, float):\n",
    "        return x\n",
    "    else:\n",
    "        return re.search(\"\\'.*?\\'\",x).group().strip(\"'\")\n",
    "\n",
    "numCat = products.assign(categories = lambda x: x.categories.apply(\n",
    "    f,\n",
    "    meta=('categories', 'str'))\n",
    "                        )\n",
    "\n",
    "numCat = numCat.groupby(\"categories\").count()['asin']\n",
    "q4 = numCat.compute()[1:]\n",
    "\n",
    "#[1:]this removes the nan catagory"
   ]
  },
  {
   "cell_type": "code",
   "execution_count": null,
   "id": "32d09abb",
   "metadata": {},
   "outputs": [],
   "source": [
    "# #Q5\n",
    "\n",
    "# subR = reviews[['asin']].drop_duplicates().set_index('asin')\n",
    "\n",
    "# subP = products.set_index('asin')\n",
    "\n",
    "# iner = subR.join(subP, on=\"asin\", how='inner').shape[0]\n",
    "\n",
    "# left = subR.join(subP, on=\"asin\", how='left').shape[0]\n",
    "\n",
    "# # print(iner)\n",
    "# # print(left)\n",
    "\n",
    "# # out = (iner == left).compute()\n",
    "\n",
    "# # out\n",
    "# iner.head()\n",
    "# #products.set_index('asin').index\n",
    "# #index.difference(products.set_index('asin').index)"
   ]
  },
  {
   "cell_type": "code",
   "execution_count": null,
   "id": "c85f4697",
   "metadata": {},
   "outputs": [],
   "source": [
    "rev_data = ['A' + str(i) for i in range(170)]\n",
    "prod_data = ['A' + str(i) for i in range(160)]\n",
    "rev_data.extend(['A' + str(i) for i in range(20)])\n",
    "\n",
    "\n",
    "test_reviews = dd.from_pandas(\n",
    "    pd.DataFrame(\n",
    "        {'asin':rev_data}\n",
    "    ),\n",
    "    npartitions = 16\n",
    ")\n",
    "test_products = dd.from_pandas(\n",
    "    pd.DataFrame(\n",
    "        {'asin':prod_data}\n",
    "    ),\n",
    "    npartitions = 16\n",
    ")\n",
    "test_reviews.tail(10)\n",
    "# test_products.head(10)\n"
   ]
  },
  {
   "cell_type": "code",
   "execution_count": null,
   "id": "3d42a591",
   "metadata": {},
   "outputs": [],
   "source": [
    "# # Q5 (without index)\n",
    "subR = reviews[['asin']]\n",
    "\n",
    "subP = products[[\"asin\"]]\n",
    "subP[\"temp\"] = 1\n",
    "\n",
    "left = dd.merge(subR, subP, how = \"left\")\n",
    "\n",
    "left.temp.isna().any().compute() + 0"
   ]
  },
  {
   "cell_type": "code",
   "execution_count": 38,
   "id": "d3028b47",
   "metadata": {},
   "outputs": [],
   "source": [
    "from string import ascii_uppercase\n",
    "from string import digits\n",
    "import random\n",
    "import numpy as np\n",
    "random.seed(100)"
   ]
  },
  {
   "cell_type": "code",
   "execution_count": 41,
   "id": "f3af87c3",
   "metadata": {},
   "outputs": [
    {
     "data": {
      "text/html": [
       "<div>\n",
       "<style scoped>\n",
       "    .dataframe tbody tr th:only-of-type {\n",
       "        vertical-align: middle;\n",
       "    }\n",
       "\n",
       "    .dataframe tbody tr th {\n",
       "        vertical-align: top;\n",
       "    }\n",
       "\n",
       "    .dataframe thead th {\n",
       "        text-align: right;\n",
       "    }\n",
       "</style>\n",
       "<table border=\"1\" class=\"dataframe\">\n",
       "  <thead>\n",
       "    <tr style=\"text-align: right;\">\n",
       "      <th></th>\n",
       "      <th>asin</th>\n",
       "      <th>related</th>\n",
       "    </tr>\n",
       "  </thead>\n",
       "  <tbody>\n",
       "    <tr>\n",
       "      <th>154</th>\n",
       "      <td>E3JW4QT9QP</td>\n",
       "      <td>['LRZZ37INOC', 'FQQ1RU3CVV', 'RQHW53ZTR1', 'JX...</td>\n",
       "    </tr>\n",
       "    <tr>\n",
       "      <th>155</th>\n",
       "      <td>F4W9M858ZI</td>\n",
       "      <td>['NNP5GMYQBD', 'TNW8RTOUO1', 'RBZ4MVE2EJ']</td>\n",
       "    </tr>\n",
       "    <tr>\n",
       "      <th>156</th>\n",
       "      <td>3IZ5FZFV1C</td>\n",
       "      <td>['VJW8SHCUSD', 'PJHL93WH3D', '0MG99JIK00', 'WI...</td>\n",
       "    </tr>\n",
       "    <tr>\n",
       "      <th>157</th>\n",
       "      <td>AMOJ6FZWMK</td>\n",
       "      <td>['JX3ONFY69F', '7GGPAXKASG', 'GNQ9ED1I18', 'Y8...</td>\n",
       "    </tr>\n",
       "    <tr>\n",
       "      <th>158</th>\n",
       "      <td>KC5XTFRUFU</td>\n",
       "      <td>['NJ9FDVWT8R', '289ONDKSB6', '9K91DMMLMU', 'UI...</td>\n",
       "    </tr>\n",
       "    <tr>\n",
       "      <th>159</th>\n",
       "      <td>IPRAF3Y8M0</td>\n",
       "      <td>['V1174LXD13', 'XKH18OKYVC']</td>\n",
       "    </tr>\n",
       "    <tr>\n",
       "      <th>160</th>\n",
       "      <td>IKGFOK205T</td>\n",
       "      <td>NaN</td>\n",
       "    </tr>\n",
       "  </tbody>\n",
       "</table>\n",
       "</div>"
      ],
      "text/plain": [
       "           asin                                            related\n",
       "154  E3JW4QT9QP  ['LRZZ37INOC', 'FQQ1RU3CVV', 'RQHW53ZTR1', 'JX...\n",
       "155  F4W9M858ZI         ['NNP5GMYQBD', 'TNW8RTOUO1', 'RBZ4MVE2EJ']\n",
       "156  3IZ5FZFV1C  ['VJW8SHCUSD', 'PJHL93WH3D', '0MG99JIK00', 'WI...\n",
       "157  AMOJ6FZWMK  ['JX3ONFY69F', '7GGPAXKASG', 'GNQ9ED1I18', 'Y8...\n",
       "158  KC5XTFRUFU  ['NJ9FDVWT8R', '289ONDKSB6', '9K91DMMLMU', 'UI...\n",
       "159  IPRAF3Y8M0                       ['V1174LXD13', 'XKH18OKYVC']\n",
       "160  IKGFOK205T                                                NaN"
      ]
     },
     "execution_count": 41,
     "metadata": {},
     "output_type": "execute_result"
    }
   ],
   "source": [
    "def rand_asin():\n",
    "    return ''.join(random.choice(ascii_uppercase + digits) for i in range(10))\n",
    "def rand_related(X, n):\n",
    "    return str(random.sample(X, k = random.randint(1,n)))\n",
    "\n",
    "prod_data = [rand_asin() for i in range(161)]\n",
    "rev_data = [rand_related(prod_data, 10) for i in range(160)]\n",
    "\n",
    "rev_data.append(np.nan)\n",
    "\n",
    "test_products = dd.from_pandas(\n",
    "    pd.DataFrame(\n",
    "        {'asin':prod_data,\n",
    "         'related':rev_data}\n",
    "        \n",
    "    ),\n",
    "    npartitions = 16\n",
    ")\n",
    "\n",
    "test_products.tail(10)"
   ]
  },
  {
   "cell_type": "code",
   "execution_count": 42,
   "id": "8afb9deb",
   "metadata": {},
   "outputs": [
    {
     "data": {
      "text/plain": [
       "0"
      ]
     },
     "execution_count": 42,
     "metadata": {},
     "output_type": "execute_result"
    }
   ],
   "source": [
    "def g(ser):\n",
    "    lst = []\n",
    "    def parse(related):\n",
    "        if (not pd.isnull(related)):\n",
    "            lst.extend(re.findall(\"[A-Z0-9]{10}\", related))\n",
    "\n",
    "    ser.apply(parse)\n",
    "    return pd.Series(lst)\n",
    "\n",
    "def f(df):\n",
    "    return df.apply(g)\n",
    "\n",
    "subR = test_products[[\"related\"]]\n",
    "metadata = {\"related\":\"str\"}\n",
    "res = subR.map_partitions(f, meta = metadata)\n",
    "res = res.rename(columns={\"related\": \"asin\"})\n",
    "res = res.drop_duplicates(split_out=16)\n",
    "\n",
    "subA = test_products[[\"asin\"]]\n",
    "subA[\"tempA\"] = 1\n",
    "res2 = res\n",
    "res2[\"tempR\"] = 1\n",
    "jn = subA.merge(res2, how='outer', on='asin')\n",
    "\n",
    "((jn.tempA.isna().any() + jn.tempR.isna().any()).compute() > 0) + 0\n"
   ]
  },
  {
   "cell_type": "code",
   "execution_count": 22,
   "id": "3540c96a",
   "metadata": {},
   "outputs": [
    {
     "data": {
      "text/html": [
       "<div>\n",
       "<style scoped>\n",
       "    .dataframe tbody tr th:only-of-type {\n",
       "        vertical-align: middle;\n",
       "    }\n",
       "\n",
       "    .dataframe tbody tr th {\n",
       "        vertical-align: top;\n",
       "    }\n",
       "\n",
       "    .dataframe thead th {\n",
       "        text-align: right;\n",
       "    }\n",
       "</style>\n",
       "<table border=\"1\" class=\"dataframe\">\n",
       "  <thead>\n",
       "    <tr style=\"text-align: right;\">\n",
       "      <th></th>\n",
       "      <th>asin</th>\n",
       "      <th>tempA</th>\n",
       "      <th>tempR</th>\n",
       "    </tr>\n",
       "  </thead>\n",
       "  <tbody>\n",
       "    <tr>\n",
       "      <th>0</th>\n",
       "      <td>IMAPVJW8SH</td>\n",
       "      <td>1</td>\n",
       "      <td>1</td>\n",
       "    </tr>\n",
       "    <tr>\n",
       "      <th>1</th>\n",
       "      <td>30ITT11S32</td>\n",
       "      <td>1</td>\n",
       "      <td>1</td>\n",
       "    </tr>\n",
       "    <tr>\n",
       "      <th>2</th>\n",
       "      <td>ZTR14E94UZ</td>\n",
       "      <td>1</td>\n",
       "      <td>1</td>\n",
       "    </tr>\n",
       "    <tr>\n",
       "      <th>3</th>\n",
       "      <td>K2DROHEOTX</td>\n",
       "      <td>1</td>\n",
       "      <td>1</td>\n",
       "    </tr>\n",
       "    <tr>\n",
       "      <th>4</th>\n",
       "      <td>ESYMM9892N</td>\n",
       "      <td>1</td>\n",
       "      <td>1</td>\n",
       "    </tr>\n",
       "    <tr>\n",
       "      <th>...</th>\n",
       "      <td>...</td>\n",
       "      <td>...</td>\n",
       "      <td>...</td>\n",
       "    </tr>\n",
       "    <tr>\n",
       "      <th>5</th>\n",
       "      <td>PJN0LVAZVJ</td>\n",
       "      <td>1</td>\n",
       "      <td>1</td>\n",
       "    </tr>\n",
       "    <tr>\n",
       "      <th>6</th>\n",
       "      <td>3ED0P81JWL</td>\n",
       "      <td>1</td>\n",
       "      <td>1</td>\n",
       "    </tr>\n",
       "    <tr>\n",
       "      <th>7</th>\n",
       "      <td>I6T74PBLJP</td>\n",
       "      <td>1</td>\n",
       "      <td>1</td>\n",
       "    </tr>\n",
       "    <tr>\n",
       "      <th>8</th>\n",
       "      <td>58ZI3IZ5FZ</td>\n",
       "      <td>1</td>\n",
       "      <td>1</td>\n",
       "    </tr>\n",
       "    <tr>\n",
       "      <th>9</th>\n",
       "      <td>FV1CAMOJ6F</td>\n",
       "      <td>1</td>\n",
       "      <td>1</td>\n",
       "    </tr>\n",
       "  </tbody>\n",
       "</table>\n",
       "<p>160 rows × 3 columns</p>\n",
       "</div>"
      ],
      "text/plain": [
       "          asin  tempA  tempR\n",
       "0   IMAPVJW8SH      1      1\n",
       "1   30ITT11S32      1      1\n",
       "2   ZTR14E94UZ      1      1\n",
       "3   K2DROHEOTX      1      1\n",
       "4   ESYMM9892N      1      1\n",
       "..         ...    ...    ...\n",
       "5   PJN0LVAZVJ      1      1\n",
       "6   3ED0P81JWL      1      1\n",
       "7   I6T74PBLJP      1      1\n",
       "8   58ZI3IZ5FZ      1      1\n",
       "9   FV1CAMOJ6F      1      1\n",
       "\n",
       "[160 rows x 3 columns]"
      ]
     },
     "execution_count": 22,
     "metadata": {},
     "output_type": "execute_result"
    }
   ],
   "source": [
    "jn.compute()"
   ]
  },
  {
   "cell_type": "code",
   "execution_count": 19,
   "id": "c351bf93",
   "metadata": {},
   "outputs": [
    {
     "data": {
      "text/plain": [
       "False"
      ]
     },
     "execution_count": 19,
     "metadata": {},
     "output_type": "execute_result"
    }
   ],
   "source": [
    "jn.tempA.isna().any().compute()"
   ]
  },
  {
   "cell_type": "code",
   "execution_count": 18,
   "id": "070bfd53",
   "metadata": {},
   "outputs": [
    {
     "data": {
      "text/plain": [
       "True"
      ]
     },
     "execution_count": 18,
     "metadata": {},
     "output_type": "execute_result"
    }
   ],
   "source": [
    "jn.tempR.isna().any().compute()"
   ]
  },
  {
   "cell_type": "code",
   "execution_count": null,
   "id": "6397b53d",
   "metadata": {},
   "outputs": [],
   "source": [
    "#Q6\n",
    "\n",
    "subP = products\n",
    "\n",
    "ser = subP[\"asin\"]\n",
    "\n",
    "def parse(related):\n",
    "    return \"|\".join(re.findall(\"[A-Z0-9]{10}\", related))\n",
    "\n",
    "def f(val):\n",
    "    asins = parse(val)\n",
    "    return ser.str.contains(\"|\".join(asins)).any()\n",
    "    \n",
    "def g(df):\n",
    "    df['related'].apply(f,meta=\"str\")\n",
    "\n",
    "#f({\"related\":\"0000143561\"}).compute()\n",
    "#f({\"related\":\"B0036FO6SI\"}).compute()\n",
    "\n",
    "subP.assign(related = g,meta=\"str\").compute()\n",
    "\n"
   ]
  },
  {
   "cell_type": "code",
   "execution_count": null,
   "id": "54c41327",
   "metadata": {},
   "outputs": [],
   "source": [
    "subP = products.set_index(\"asin\")\n",
    "\n",
    "\n",
    "def parse(related):\n",
    "    return re.findall(\"[A-Z0-9]{10}\", related)\n",
    "\n",
    "def f(df):\n",
    "    asins = []\n",
    "    for row in df.iterrows():\n",
    "        \n",
    "        asins.append([1])\n",
    "    \n",
    "    ret = pd.DataFrame({\"asins\" : asins})\n",
    "    return ret\n",
    "    \n",
    "\n",
    "subP.map_partitions(f,  meta=\"str\").compute()\n"
   ]
  },
  {
   "cell_type": "code",
   "execution_count": null,
   "id": "6d979639",
   "metadata": {},
   "outputs": [],
   "source": [
    "# Q6 new\n",
    "\n",
    "\n",
    "\n",
    "def g(ser):\n",
    "    lst = []\n",
    "    def parse(related):\n",
    "        if (not pd.isnull(related)):\n",
    "            lst.extend(re.findall(\"[A-Z0-9]{10}\", related))\n",
    "    \n",
    "    ser.apply(parse)\n",
    "    \n",
    "    return pd.Series(lst)\n",
    "\n",
    "def f(df):\n",
    "    return df.apply(g)"
   ]
  },
  {
   "cell_type": "code",
   "execution_count": null,
   "id": "55324e4b",
   "metadata": {},
   "outputs": [],
   "source": [
    "subR = products[[\"related\"]]\n",
    "\n",
    "metadata = {\"related\":\"str\"}\n",
    "\n",
    "res = subR.map_partitions(f, meta = metadata)\n",
    "\n",
    "res = res.rename(columns={\"related\": \"asin\"})\n",
    "\n",
    "res = res.drop_duplicates(split_out=4)#10461397\n",
    "\n",
    "#res.npartitions\n",
    "\n",
    "#res.shape[0].compute()"
   ]
  },
  {
   "cell_type": "code",
   "execution_count": null,
   "id": "3502ec61",
   "metadata": {},
   "outputs": [],
   "source": [
    "subA = products[[\"asin\"]]\n",
    "\n",
    "#subA = subA.set_index(\"asin\")\n",
    "\n",
    "subA[\"tempA\"] = 1\n",
    "\n",
    "res2 = res\n",
    "\n",
    "#res2 = res2.set_index(\"asin\")\n",
    "\n",
    "res2[\"tempR\"] = 1\n",
    "\n",
    "jn = subA.merge(res2, how='outer', \n",
    "                left_index = True, \n",
    "                right_index = True)#on=\"asin\")"
   ]
  },
  {
   "cell_type": "code",
   "execution_count": null,
   "id": "48267600",
   "metadata": {},
   "outputs": [],
   "source": [
    "# jn.dask"
   ]
  },
  {
   "cell_type": "code",
   "execution_count": null,
   "id": "870e828c",
   "metadata": {},
   "outputs": [],
   "source": [
    "(jn.tempA.isna().any() + jn.tempR.isna().any()).compute() >0"
   ]
  },
  {
   "cell_type": "code",
   "execution_count": null,
   "id": "31df6b53",
   "metadata": {
    "scrolled": true
   },
   "outputs": [],
   "source": [
    "jn.tempA.isna().any().compute()"
   ]
  },
  {
   "cell_type": "markdown",
   "id": "915863ee",
   "metadata": {},
   "source": [
    "## FINAL CODE"
   ]
  },
  {
   "cell_type": "code",
   "execution_count": 1,
   "id": "5fa9f91c",
   "metadata": {},
   "outputs": [],
   "source": [
    "import dask.dataframe as dd\n",
    "from dask.distributed import Client\n",
    "import json\n",
    "import dask\n",
    "import re\n",
    "import pandas as pd\n",
    "\n",
    "products = dd.read_csv(\"products_Release.csv\")\n",
    "reviews = dd.read_csv(\"user_reviews_Release.csv\")\n",
    "\n",
    "client=Client('172.31.32.105:8786')\n",
    "client.restart()\n",
    "\n",
    "# Q1\n",
    "q1_reviews = reviews.isna().mean().compute() * 100\n",
    "q1_products = products.isna().mean().compute() * 100\n",
    "\n",
    "\n",
    "# Set up for Q1-Q6\n",
    "# product_metadata = {'price':float,  \n",
    "#                     'categories':str, \n",
    "#                     'asin':str,\n",
    "#                     'related':str}\n",
    "products = dd.read_csv(\"products_Release.csv\", \n",
    "                        usecols=['price',  \n",
    "                                'categories', \n",
    "                                'asin',\n",
    "                                'related'\n",
    "                                ],\n",
    "                      )\n",
    "# reviews_metadata = {'asin':str, \n",
    "#                     'overall':float}\n",
    "reviews = dd.read_csv(\"user_reviews_Release.csv\", \n",
    "                      usecols=['asin', 'overall'],\n",
    "                      )\n",
    "# products.drop(\n",
    "#     [\n",
    "#         \"salesRank\",\n",
    "#         \"imUrl\",\n",
    "#         \"title\",\n",
    "#         \"description\",\n",
    "#         \"brand\"\n",
    "#     ], axis=1)\n",
    "\n",
    "# reviews.drop(\n",
    "#     [\n",
    "#         \"reviewerID\",\n",
    "#         \"reviewerName\",\n",
    "#         \"helpful\",\n",
    "#         \"reviewText\",\n",
    "#         \"summary\",\n",
    "#         \"unixReviewTime\",\n",
    "#         \"reviewTime\"\n",
    "#     ], axis=1)\n",
    "\n",
    "bag1 = {}\n",
    "\n",
    "# Q2\n",
    "subproducts = products[['asin', 'price']]\n",
    "subreviews = reviews[['asin', 'overall']]\n",
    "\n",
    "#optimise with left and not index on products\n",
    "# joined = subproducts.join(subreviews, \n",
    "#                           on=\"asin\", \n",
    "#                           how='inner')\n",
    "joined = dd.merge(subproducts, subreviews, on = 'asin', how = 'inner')\n",
    "\n",
    "#joined.head()\n",
    "bag1['q2'] = joined.corr()['overall']#.compute()['price']\n",
    "\n",
    "# Q3\n",
    "price_prod = products['price'].describe()\n",
    "bag1['q3'] = price_prod#.compute()[['mean', 'std', '50%', 'min', 'max']]\n",
    "\n",
    "# Q4\n",
    "def get_supercat(x):\n",
    "    if isinstance(x, float):\n",
    "        return x\n",
    "    else:\n",
    "        return re.search(\"\\'.*?\\'\",x).group().strip(\"'\")\n",
    "\n",
    "numCat = products.assign(categories = lambda x: x.categories.apply(\n",
    "    get_supercat,\n",
    "    meta=('categories', 'str'))\n",
    "                        )\n",
    "\n",
    "numCat = numCat.groupby(\"categories\").count()['asin']\n",
    "bag1['q4'] = numCat#.compute()[1:]\n",
    "\n",
    "\n",
    "# Q5\n",
    "subR = reviews[['asin']]\n",
    "subP = products[[\"asin\"]]\n",
    "subP[\"temp\"] = 1\n",
    "\n",
    "left = dd.merge(subR, subP, how = \"left\")\n",
    "bag1['q5'] = left.temp.isna().any()#.compute() + 0\n",
    "\n",
    "\n",
    "# Q6\n",
    "def g(ser):\n",
    "    lst = []\n",
    "    def parse(related):\n",
    "        if (not pd.isnull(related)):\n",
    "            lst.extend(re.findall(\"[A-Z0-9]{10}\", related))\n",
    "\n",
    "    ser.apply(parse)\n",
    "    return pd.Series(lst)\n",
    "\n",
    "def f(df):\n",
    "    return df.apply(g)\n",
    "\n",
    "subR = products[[\"related\"]]\n",
    "metadata = {\"related\":\"str\"}\n",
    "res = subR.map_partitions(f, meta = metadata)\n",
    "res = res.rename(columns={\"related\": \"asin\"})\n",
    "res = res.drop_duplicates(split_out=16)\n",
    "\n",
    "subA = products[[\"asin\"]]\n",
    "subA[\"tempA\"] = 1\n",
    "res2 = res\n",
    "res2[\"tempR\"] = 1\n",
    "jn = subA.merge(res2, how='outer', on='asin')\n",
    "\n",
    "q6 = (jn.tempA.isna().any() + jn.tempR.isna().any()).compute() > 0\n",
    "\n",
    "temp1 = dask.compute(bag1)\n"
   ]
  },
  {
   "cell_type": "code",
   "execution_count": 2,
   "id": "6e0820d2",
   "metadata": {},
   "outputs": [],
   "source": [
    "temp1 = temp1[0]  \n",
    "q2 = temp1['q2']['price']\n",
    "q3 = temp1['q3'][['mean', 'std', '50%', 'min', 'max']]\n",
    "q4 = temp1['q4'][1:].sort_index(ascending=True, kind=\"mergesort\").sort_values(ascending=False, kind=\"mergesort\")\n",
    "q5 = temp1['q5'] + 0\n",
    "q6 = q6 + 0"
   ]
  },
  {
   "cell_type": "code",
   "execution_count": 3,
   "id": "9b1a2376",
   "metadata": {},
   "outputs": [
    {
     "data": {
      "text/plain": [
       "reviewerID        0.000000\n",
       "asin              0.000000\n",
       "reviewerName      3.292575\n",
       "helpful           0.000000\n",
       "reviewText        0.021570\n",
       "overall           0.000000\n",
       "summary           0.001085\n",
       "unixReviewTime    0.000010\n",
       "reviewTime        0.000000\n",
       "dtype: float64"
      ]
     },
     "execution_count": 3,
     "metadata": {},
     "output_type": "execute_result"
    }
   ],
   "source": [
    "q1_reviews"
   ]
  },
  {
   "cell_type": "code",
   "execution_count": 4,
   "id": "0e321f76",
   "metadata": {},
   "outputs": [
    {
     "data": {
      "text/plain": [
       "asin            0.000000\n",
       "salesRank      26.015663\n",
       "imUrl           1.795239\n",
       "categories      0.798038\n",
       "title          15.192672\n",
       "description    41.717847\n",
       "price          35.703404\n",
       "related        29.039236\n",
       "brand          81.684125\n",
       "dtype: float64"
      ]
     },
     "execution_count": 4,
     "metadata": {},
     "output_type": "execute_result"
    }
   ],
   "source": [
    "q1_products"
   ]
  },
  {
   "cell_type": "code",
   "execution_count": 5,
   "id": "47ecb7c8",
   "metadata": {},
   "outputs": [
    {
     "data": {
      "text/plain": [
       "-0.012692858217330167"
      ]
     },
     "execution_count": 5,
     "metadata": {},
     "output_type": "execute_result"
    }
   ],
   "source": [
    "q2"
   ]
  },
  {
   "cell_type": "code",
   "execution_count": 6,
   "id": "392f145a",
   "metadata": {},
   "outputs": [
    {
     "data": {
      "text/plain": [
       "mean     34.937356\n",
       "std      71.263692\n",
       "50%      19.600000\n",
       "min       0.000000\n",
       "max     999.990000\n",
       "Name: price, dtype: float64"
      ]
     },
     "execution_count": 6,
     "metadata": {},
     "output_type": "execute_result"
    }
   ],
   "source": [
    "q3"
   ]
  },
  {
   "cell_type": "code",
   "execution_count": 7,
   "id": "2580be74",
   "metadata": {},
   "outputs": [
    {
     "data": {
      "text/plain": [
       "categories\n",
       "Books                                       2369910\n",
       "Clothing, Shoes & Jewelry                   1435868\n",
       "Sports & Outdoors                            529989\n",
       "Electronics                                  495476\n",
       "CDs & Vinyl                                  491713\n",
       "                                             ...   \n",
       "Publishers                                        2\n",
       "Gospel                                            2\n",
       "Celebrate your Birthday with Nickelodeon          2\n",
       "Collectible Coins                                 1\n",
       "#508510                                           1\n",
       "Name: asin, Length: 82, dtype: int64"
      ]
     },
     "execution_count": 7,
     "metadata": {},
     "output_type": "execute_result"
    }
   ],
   "source": [
    "q4"
   ]
  },
  {
   "cell_type": "code",
   "execution_count": 8,
   "id": "340d7a1e",
   "metadata": {},
   "outputs": [
    {
     "data": {
      "text/plain": [
       "1"
      ]
     },
     "execution_count": 8,
     "metadata": {},
     "output_type": "execute_result"
    }
   ],
   "source": [
    "q5"
   ]
  },
  {
   "cell_type": "code",
   "execution_count": 9,
   "id": "2a69a7ea",
   "metadata": {},
   "outputs": [
    {
     "data": {
      "text/plain": [
       "1"
      ]
     },
     "execution_count": 9,
     "metadata": {},
     "output_type": "execute_result"
    }
   ],
   "source": [
    "q6"
   ]
  },
  {
   "cell_type": "code",
   "execution_count": null,
   "id": "31a467f5",
   "metadata": {},
   "outputs": [],
   "source": []
  },
  {
   "cell_type": "code",
   "execution_count": null,
   "id": "8011b17c",
   "metadata": {},
   "outputs": [],
   "source": []
  }
 ],
 "metadata": {
  "kernelspec": {
   "display_name": "Python 3",
   "language": "python",
   "name": "python3"
  },
  "language_info": {
   "codemirror_mode": {
    "name": "ipython",
    "version": 3
   },
   "file_extension": ".py",
   "mimetype": "text/x-python",
   "name": "python",
   "nbconvert_exporter": "python",
   "pygments_lexer": "ipython3",
   "version": "3.6.9"
  }
 },
 "nbformat": 4,
 "nbformat_minor": 5
}
