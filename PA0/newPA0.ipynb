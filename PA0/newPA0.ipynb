{
 "cells": [
  {
   "cell_type": "code",
   "execution_count": null,
   "metadata": {},
   "outputs": [],
   "source": [
    "from dask.distributed import Client\n",
    "import dask.dataframe as dd\n",
    "\n",
    "client = Client()\n",
    "client"
   ]
  },
  {
   "cell_type": "code",
   "execution_count": null,
   "metadata": {},
   "outputs": [],
   "source": [
    "import numpy as np\n",
    "\n",
    "import pandas as pd\n",
    "import dask.dataframe as dd\n",
    "import dask.array as da\n",
    "import dask.bag as db\n",
    "import logging\n",
    "from dask.distributed import Client\n",
    "\n",
    "import re\n",
    "import json"
   ]
  },
  {
   "cell_type": "code",
   "execution_count": null,
   "metadata": {},
   "outputs": [],
   "source": [
    "ddf = dd.read_csv(\"medium_reviews.csv\", blocksize=50e6, usecols=['reviewerID', 'overall','helpful','reviewTime'])\n",
    "\n",
    "# ddf.head()"
   ]
  },
  {
   "cell_type": "code",
   "execution_count": null,
   "metadata": {},
   "outputs": [],
   "source": []
  },
  {
   "cell_type": "code",
   "execution_count": null,
   "metadata": {},
   "outputs": [],
   "source": [
    "\n",
    "\n",
    "ddf = ddf.assign(reviewYear = lambda x: x.reviewTime.apply(\n",
    "    lambda x: int(re.search(r\"\\d{4}\", x).group()),\n",
    "    meta=('reviewTime', 'str')))\n",
    "\n",
    "def addHelpUnhelp(df):\n",
    "    helpful_series = df['helpful'].apply(lambda x: np.array(re.findall(r\"\\d+\", x)).astype(int))\n",
    "    df[['newHelpful', 'totalreviews']] = pd.DataFrame(helpful_series.to_list())\n",
    "    df['totalreviews'] = df['newHelpful'] + df['totalreviews']\n",
    "    return df\n",
    "\n",
    "metadata = {'reviewerID': 'str',\n",
    "            'helpful': 'str',\n",
    "            'overall': 'float',\n",
    "            'reviewTime': 'str',\n",
    "            'reviewYear': 'float',\n",
    "            'newHelpful' : 'float',\n",
    "            'totalreviews': 'float'\n",
    "            }\n",
    "\n",
    "ddf = ddf.map_partitions(addHelpUnhelp,\n",
    "                   #.apply(\n",
    "    ##lambda x: np.array(re.findall(r\"\\d+\", x)).astype(int),\n",
    "    meta=metadata\n",
    "                  )\n",
    "\n",
    "# ddf.visualize()"
   ]
  },
  {
   "cell_type": "code",
   "execution_count": null,
   "metadata": {
    "scrolled": true
   },
   "outputs": [],
   "source": [
    "# ddf.compute().head()"
   ]
  },
  {
   "cell_type": "code",
   "execution_count": null,
   "metadata": {},
   "outputs": [],
   "source": [
    "#drop extra columnsTODO\n",
    "\n",
    "#index??\n",
    "#empiricaly check partitions\n",
    "groups = ddf.groupby('reviewerID')"
   ]
  },
  {
   "cell_type": "code",
   "execution_count": null,
   "metadata": {},
   "outputs": [],
   "source": [
    "ret = groups.aggregate(\n",
    "{\n",
    "    'reviewTime' : 'count',\n",
    "    'overall' : 'mean',\n",
    "    'reviewYear' : 'min',\n",
    "    'newHelpful' : 'sum',\n",
    "    'totalreviews' : 'sum',\n",
    "})\n",
    "\n",
    "#split_out=4)\n",
    "\n",
    "ret = ret.reset_index().rename(columns={\n",
    "                    \"reviewTime\":\"number_products_rated\", \n",
    "                    \"overall\":\"avg_ratings\", \n",
    "                    \"reviewYear\":\"reviewing_since\", \n",
    "                    \"newHelpful\":\"helpful_votes\", \n",
    "                    \"totalreviews\":\"total_votes\"})\n",
    "\n",
    "# ret.visualize()\n"
   ]
  },
  {
   "cell_type": "code",
   "execution_count": null,
   "metadata": {},
   "outputs": [],
   "source": [
    "# ret.compute().head()"
   ]
  },
  {
   "cell_type": "code",
   "execution_count": null,
   "metadata": {},
   "outputs": [],
   "source": [
    "# # ret['reviewerID']\n",
    "# ret.compute().describe()"
   ]
  },
  {
   "cell_type": "code",
   "execution_count": null,
   "metadata": {},
   "outputs": [],
   "source": [
    "# reviews = pd.read_csv(\"small_reviews.csv\")"
   ]
  },
  {
   "cell_type": "code",
   "execution_count": null,
   "metadata": {},
   "outputs": [],
   "source": [
    "# number_products_rated = reviews.groupby('reviewerID').count()['asin']\n",
    "# avg_ratings = reviews.groupby('reviewerID')['overall'].mean()\n",
    "# reviewing_since = reviews.groupby('reviewerID')['reviewTime'].min()\n",
    "# helpful_reviews = reviews.groupby('reviewerID')['helpful'].agg(lambda x: sum([int(i.strip('[]').split(', ')[0]) for i in x]))\n",
    "# total_reviews = reviews.groupby('reviewerID')['helpful'].agg(lambda x: sum([int(i.strip('[]').split(', ')[0]) + int(i.strip('[]').split(', ')[1]) for i in x]))\n"
   ]
  },
  {
   "cell_type": "code",
   "execution_count": null,
   "metadata": {},
   "outputs": [],
   "source": [
    "\n",
    "# users = pd.DataFrame(index = set(reviews['reviewerID']))\n",
    "# users['number_products_rated'] = number_products_rated\n",
    "# users['avg_ratings'] = avg_ratings\n",
    "# users['reviewing_since'] = reviewing_since\n",
    "# users['helpful_reviews'] = helpful_reviews\n",
    "# users['total_reviews'] = total_reviews\n",
    "# users.reset_index(inplace=True)\n",
    "# users = users.rename(columns = {'index':'reviewerID (PRIMARY KEY)'})\n",
    "# users\n"
   ]
  },
  {
   "cell_type": "code",
   "execution_count": null,
   "metadata": {},
   "outputs": [],
   "source": [
    "submit = ret.describe().compute().round(2)\n",
    "with open('results_PA0.json', 'w') as outfile: json.dump(json.loads(submit.to_json()), outfile)"
   ]
  },
  {
   "cell_type": "code",
   "execution_count": null,
   "metadata": {},
   "outputs": [],
   "source": []
  },
  {
   "cell_type": "code",
   "execution_count": null,
   "metadata": {},
   "outputs": [],
   "source": []
  }
 ],
 "metadata": {
  "kernelspec": {
   "display_name": "Python 3",
   "language": "python",
   "name": "python3"
  },
  "language_info": {
   "codemirror_mode": {
    "name": "ipython",
    "version": 3
   },
   "file_extension": ".py",
   "mimetype": "text/x-python",
   "name": "python",
   "nbconvert_exporter": "python",
   "pygments_lexer": "ipython3",
   "version": "3.6.9"
  },
  "vscode": {
   "interpreter": {
    "hash": "5b2a83ca1814e8181f72a50592b91ded41109c6aa45dc84ed31ca551e55ef832"
   }
  }
 },
 "nbformat": 4,
 "nbformat_minor": 2
}
