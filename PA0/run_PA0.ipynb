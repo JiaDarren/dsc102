{
 "cells": [
  {
   "cell_type": "code",
   "execution_count": null,
   "id": "71b579bc",
   "metadata": {},
   "outputs": [],
   "source": [
    "# from dask.distributed import Client\n",
    "\n",
    "# client = Client()\n",
    "# client"
   ]
  },
  {
   "cell_type": "code",
   "execution_count": 1,
   "id": "36714d92",
   "metadata": {},
   "outputs": [],
   "source": [
    "import PA0\n",
    "\n",
    "file_name = \"user_reviews_Release.csv\"\n",
    "PA0.PA0(file_name)"
   ]
  },
  {
   "cell_type": "code",
   "execution_count": null,
   "id": "33f99ede",
   "metadata": {},
   "outputs": [],
   "source": []
  }
 ],
 "metadata": {
  "kernelspec": {
   "display_name": "Python 3",
   "language": "python",
   "name": "python3"
  },
  "language_info": {
   "codemirror_mode": {
    "name": "ipython",
    "version": 3
   },
   "file_extension": ".py",
   "mimetype": "text/x-python",
   "name": "python",
   "nbconvert_exporter": "python",
   "pygments_lexer": "ipython3",
   "version": "3.6.9"
  }
 },
 "nbformat": 4,
 "nbformat_minor": 5
}
